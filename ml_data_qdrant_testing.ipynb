{
 "cells": [
  {
   "cell_type": "code",
   "execution_count": 1,
   "metadata": {},
   "outputs": [],
   "source": [
    "import os\n",
    "from langchain_openai import OpenAIEmbeddings  # You can use other embedding models as well\n",
    "from tqdm import tqdm\n",
    "import re\n",
    "from langchain.document_loaders import UnstructuredWordDocumentLoader\n",
    "from qdrant_client import QdrantClient\n",
    "import openai\n",
    "from qdrant_client.http import models\n"
   ]
  },
  {
   "cell_type": "code",
   "execution_count": 2,
   "metadata": {},
   "outputs": [],
   "source": [
    "embeddings_model = OpenAIEmbeddings(model=\"text-embedding-3-small\") "
   ]
  },
  {
   "cell_type": "code",
   "execution_count": 3,
   "metadata": {},
   "outputs": [
    {
     "name": "stdout",
     "output_type": "stream",
     "text": [
      "collections=[CollectionDescription(name='cod_fiscal_article_chunks'), CollectionDescription(name='machine_learning_course_doc'), CollectionDescription(name='prietenii_contabilitatii')]\n"
     ]
    }
   ],
   "source": [
    "qdrant_client = QdrantClient(\n",
    "    url=os.environ[\"QDRANT_URL\"], \n",
    "    api_key=os.environ[\"QDRANT_API_KEY\"],\n",
    ")\n",
    "\n",
    "print(qdrant_client.get_collections())"
   ]
  },
  {
   "cell_type": "code",
   "execution_count": 4,
   "metadata": {},
   "outputs": [],
   "source": [
    "\n",
    "openai_client = openai.Client(\n",
    "    api_key=os.environ[\"OPENAI_API_KEY\"]\n",
    ")\n",
    "\n",
    "embedding_model_name = \"text-embedding-3-small\"\n"
   ]
  },
  {
   "cell_type": "code",
   "execution_count": 5,
   "metadata": {},
   "outputs": [],
   "source": [
    "\n",
    "openai.api_key = os.environ[\"OPENAI_API_KEY\"]\n",
    "\n",
    "collection_name = \"machine_learning_course_doc\"\n",
    "\n",
    "# Create a new collection (if it doesn't exist)"
   ]
  },
  {
   "cell_type": "code",
   "execution_count": 6,
   "metadata": {},
   "outputs": [],
   "source": [
    "from langchain_qdrant import Qdrant\n",
    "\n",
    "retriever = Qdrant(\n",
    "    client=qdrant_client, \n",
    "    collection_name=collection_name,\n",
    "    embeddings= OpenAIEmbeddings(model=embedding_model_name),\n",
    ").as_retriever(search_kwargs={\"k\": 5})"
   ]
  },
  {
   "cell_type": "code",
   "execution_count": 7,
   "metadata": {},
   "outputs": [
    {
     "name": "stderr",
     "output_type": "stream",
     "text": [
      "d:\\OneDrive\\Projects\\example-app-langchain-rag\\.venv\\Lib\\site-packages\\langchain_core\\_api\\deprecation.py:119: LangChainDeprecationWarning: The method `BaseRetriever.get_relevant_documents` was deprecated in langchain-core 0.1.46 and will be removed in 0.3.0. Use invoke instead.\n",
      "  warn_deprecated(\n"
     ]
    },
    {
     "data": {
      "text/plain": [
       "[Document(page_content='Machine learning is a powerful tool that enables computers to learn from data and make predictions or decisions without being explicitly programmed. It has revolutionized various fields such as finance, healthcare, and marketing, among others. Machine learning can be broadly classified into three main categories: supervised learning, unsupervised learning, and reinforcement learning. Supervised learning trains a machine learning model on labeled data, where inputs and outputs are known. The model learns to map inputs to outputs by minimizing the difference between predicted and actual output. Examples include image classification, speech recognition, and natural language processing. Unsupervised learning trains a machine learning model on unlabeled data, where inputs are provided but outputs are not known. The goal is to find patterns or structure in the data without prior knowledge of the labels. Examples include clustering, anomaly detection, and dimensionality reduction. Reinforcement learning is a type of machine learning where an agent learns to make decisions in an environment to maximize a reward signal. The agent interacts with the environment by taking actions and receiving feedback in the form of rewards or penalties. The goal is to learn an optimal policy that maximizes long-term rewards. Examples include game playing, robotics, and recommendation systems.', metadata={'chapter': 'Chapter 2: Types of Machine Learning', 'element_id': 79, 'filename': 'Introduction-to-Machine-Learning.docx', 'page_number': 8, 'part': 'Part 1: Introduction to Machine Learning', 'sub_title': '', '_id': 6, '_collection_name': 'machine_learning_course_doc'}),\n",
       " Document(page_content='In the field of machine learning, it is essential to understand the key terms and concepts used. These include data, features, labels, models, and predictions. Data refers to the information or input used to train a machine learning algorithm. This data can take many forms, including numerical, textual, or image-based. Features are the measurable characteristics or attributes of the data. These features are used to train a model to make predictions or classifications. For example, in an image classification problem, features might include color, shape, and texture. Labels are the desired outputs or outcomes of a machine learning algorithm. In supervised learning, these labels are used to train the algorithm to predict new data. A model is a mathematical representation of the relationship between the features and the labels in the data. This model is used to make predictions or classifications on new data. Predictions are the outputs of a machine learning algorithm when given new data. These predictions can take many forms, including numerical values, categorical labels, or probability estimates. In addition to understanding these key terms, it is important to know the different types of machine learning, which include supervised, unsupervised, and reinforcement learning. Supervised learning involves training a model using labeled data. The goal is to predict a label or outcome for new, unseen data. Examples include image classification and sentiment analysis. Unsupervised learning involves training a model using unlabeled data. The goal is to discover patterns or structure in the data. Examples include clustering and anomaly detection.', metadata={'chapter': 'Chapter 1: What is Machine Learning?', 'element_id': 59, 'filename': 'Introduction-to-Machine-Learning.docx', 'page_number': 6, 'part': 'Part 1: Introduction to Machine Learning', 'sub_title': 'Key Concepts in Machine Learning', '_id': 2, '_collection_name': 'machine_learning_course_doc'}),\n",
       " Document(page_content='Machine learning is a branch of artificial intelligence that focuses on creating algorithms that can learn from data and make predictions or decisions based on that data. The goal of machine learning is to enable machines to learn from experience, so that they can improve their performance over time. In this chapter, we will explore the fundamentals of machine learning, including its definition, history, and key concepts.', metadata={'chapter': 'Chapter 1: What is Machine Learning?', 'element_id': 54, 'filename': 'Introduction-to-Machine-Learning.docx', 'page_number': 6, 'part': 'Part 1: Introduction to Machine Learning', 'sub_title': '', '_id': 0, '_collection_name': 'machine_learning_course_doc'}),\n",
       " Document(page_content=\"Machine learning has its roots in the field of statistics and has evolved over time with contributions from various fields such as computer science, mathematics, and engineering. The history of machine learning dates back to the 1940s and 1950s, when researchers first started exploring the concept of artificial intelligence. However, it wasn't until the 1980s and 1990s that machine learning gained significant momentum and began to make breakthroughs in practical applications such as speech recognition and computer vision. Today, machine learning has become one of the most exciting and rapidly growing fields in computer science, with applications in a wide range of industries such as healthcare, finance, and transportation. As the amount of data being generated continues to grow exponentially, machine learning is increasingly being used to help make sense of this data, uncover patterns, and make predictions.\", metadata={'chapter': 'Chapter 1: What is Machine Learning?', 'element_id': 56, 'filename': 'Introduction-to-Machine-Learning.docx', 'page_number': 6, 'part': 'Part 1: Introduction to Machine Learning', 'sub_title': 'Definition and History of Machine Learning', '_id': 1, '_collection_name': 'machine_learning_course_doc'}),\n",
       " Document(page_content='In conclusion, machine learning is a rapidly growing field that has transformed various industries and domains. From image and speech recognition to natural language processing, machine learning has demonstrated its effectiveness in solving complex problems and providing insights from vast amounts of data. In this book, we covered the basics of machine learning, including its key concepts, types of learning, and popular algorithms. We also explored the practical applications of machine learning, such as predictive maintenance, fraud detection, and recommendation systems. Moreover, we delved into the details of some popular machine learning algorithms, including linear regression, decision trees, and neural networks. We also discussed the importance of model selection and evaluation, as well as common techniques for regularization and hyperparameter tuning. Lastly, we covered some advanced topics such as deep learning and unsupervised learning, which have shown great promise in tackling complex problems in various domains. As the field of machine learning continues to evolve and expand, it is crucial for practitioners to stay up-to-date with the latest developments and techniques. With the knowledge and skills gained from this book, readers can confidently apply machine learning to real-world problems and contribute to the advancement of the field.', metadata={'chapter': 'Chapter 24: Conclusion', 'element_id': 602, 'filename': 'Introduction-to-Machine-Learning.docx', 'page_number': 76, 'part': 'Part 8: Conclusion', 'sub_title': '', '_id': 115, '_collection_name': 'machine_learning_course_doc'})]"
      ]
     },
     "execution_count": 7,
     "metadata": {},
     "output_type": "execute_result"
    }
   ],
   "source": [
    "retriever.get_relevant_documents(query=\"What are the types of machine learning?\", collection_name=collection_name)"
   ]
  },
  {
   "cell_type": "code",
   "execution_count": null,
   "metadata": {},
   "outputs": [],
   "source": []
  }
 ],
 "metadata": {
  "kernelspec": {
   "display_name": ".venv",
   "language": "python",
   "name": "python3"
  },
  "language_info": {
   "codemirror_mode": {
    "name": "ipython",
    "version": 3
   },
   "file_extension": ".py",
   "mimetype": "text/x-python",
   "name": "python",
   "nbconvert_exporter": "python",
   "pygments_lexer": "ipython3",
   "version": "3.11.9"
  }
 },
 "nbformat": 4,
 "nbformat_minor": 2
}
